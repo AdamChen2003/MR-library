{
 "cells": [
  {
   "cell_type": "markdown",
   "metadata": {},
   "source": [
    "Reading in the data and then filtering out SNPs which do not meet p value significance before joining the data together."
   ]
  },
  {
   "cell_type": "code",
   "execution_count": 1,
   "metadata": {},
   "outputs": [
    {
     "name": "stdout",
     "output_type": "stream",
     "text": [
      "(75089, 26)\n"
     ]
    }
   ],
   "source": [
    "%load_ext autoreload\n",
    "%autoreload 2\n",
    "\n",
    "import polars as pl\n",
    "\n",
    "# exp: Exposure\n",
    "# out: Outcome\n",
    "# ea: Exposure allele\n",
    "# oa: Other allele\n",
    "\n",
    "exp_header_dict = {\n",
    "  'rsID':'rsid',\n",
    "  'CHROM':'chr_exp',\n",
    "  'ALT':'ea_exp',\n",
    "  'REF':'oa_exp',\n",
    "  'POOLED_ALT_AF':'eaf_exp',\n",
    "  'EFFECT_SIZE':'beta_exp',\n",
    "  'SE':'se_exp',\n",
    "  'pvalue':'pval_exp'\n",
    "}\n",
    "\n",
    "out_header_dict = {\n",
    "  'markername':'rsid',\n",
    "  'chr':'chr_out',\n",
    "  'bp_hg19':'pos_out',\n",
    "  'effect_allele':'ea_out',\n",
    "  'noneffect_allele':'oa_out',\n",
    "  'effect_allele_freq':'eaf_out',\n",
    "  'beta':'beta_out',\n",
    "  'se_dgc':'se_out',\n",
    "  'p_dgc':'pval_out'}\n",
    "\n",
    "pthresh = 5e-8\n",
    "\n",
    "# Renaming columns and filtering data to only include observations which fulfill significance threshold\n",
    "dexp = (pl.scan_csv(\"dataset/ldlc_gwas.txt\",separator=\"\\t\")\n",
    "        .rename(exp_header_dict)\n",
    "        .filter((pl.col('pval_exp') < pthresh)))\n",
    "dout = (pl.scan_csv(\"dataset/mi_gwas.tsv\",separator=\"\\t\")\n",
    "        .rename(out_header_dict))\n",
    "\n",
    "combined = (dexp.join(dout, on='rsid')\n",
    "            # Convert all data to lowercase\n",
    "            .with_columns(\n",
    "                pl.col('ea_exp').str.to_lowercase(),\n",
    "                pl.col('oa_exp').str.to_lowercase(),\n",
    "                pl.col('ea_out').str.to_lowercase(),\n",
    "                pl.col('oa_out').str.to_lowercase(),\n",
    "            # Convert minor allele freq to effect allele freq\n",
    "                pl.col('eaf_exp').mul(-1).add(1))\n",
    "            .collect())\n",
    "\n",
    "print(combined.shape)"
   ]
  },
  {
   "cell_type": "markdown",
   "metadata": {},
   "source": [
    "We can use the provided harmonize function."
   ]
  },
  {
   "cell_type": "code",
   "execution_count": 2,
   "metadata": {},
   "outputs": [
    {
     "name": "stdout",
     "output_type": "stream",
     "text": [
      "(73095, 26)\n",
      "(73095, 26)\n"
     ]
    }
   ],
   "source": [
    "from MR.harmonize import harmonize\n",
    "\n",
    "total = harmonize(combined, palindromic_action=1, palindromic_threshold=0.08)\n",
    "print(total.shape)\n",
    "\n",
    "# Seeing if duplicates are dropped\n",
    "print(total.unique(subset=['rsid']).shape)"
   ]
  },
  {
   "cell_type": "markdown",
   "metadata": {},
   "source": [
    "Clumping the data based on Linkage Disequilibirum (LD). This is to filter out SNPs which are closely correlated in order to essentially avoid double counting results into the final calculation."
   ]
  },
  {
   "cell_type": "code",
   "execution_count": 3,
   "metadata": {},
   "outputs": [
    {
     "name": "stdout",
     "output_type": "stream",
     "text": [
      "(379, 26)\n"
     ]
    }
   ],
   "source": [
    "from MR.ld import ld_clump\n",
    "\n",
    "pruned_rsids = ld_clump(total['rsid'], total['pval_exp'])\n",
    "\n",
    "processed_data = (total.join(pruned_rsids, on='rsid'))\n",
    "\n",
    "print(processed_data.shape)"
   ]
  },
  {
   "cell_type": "code",
   "execution_count": 4,
   "metadata": {},
   "outputs": [],
   "source": [
    "from MR.ld import ld_matrix\n",
    "\n",
    "# print(ld_matrix(processed_data['rsid']))"
   ]
  },
  {
   "cell_type": "markdown",
   "metadata": {},
   "source": [
    "Calculating causal effects."
   ]
  },
  {
   "cell_type": "code",
   "execution_count": 17,
   "metadata": {},
   "outputs": [
    {
     "name": "stdout",
     "output_type": "stream",
     "text": [
      "0.0\n",
      "[0.0, 49.27, 219.82, 30.32, 121.28, 174.34, 26.53, 11.37, 341.1, 132.65, 26.53, 45.48, 7.58, 151.6, 83.38, 45.48, 325.94, 125.07, 348.68, 306.99, 333.52, 367.63, 30.32, 337.31, 269.09, 333.52, 30.32, 53.06, 0.0, 18.95, 288.04, 360.05, 45.48, 0.0, 261.51, 360.05, 121.28, 178.13, 0.0, 318.36, 242.56, 0.0, 231.19, 15.16, 306.99, 83.38, 348.68, 64.43, 140.23, 212.24, 234.98, 352.47, 375.21, 30.32, 140.23, 18.95, 83.38, 0.0, 60.64, 325.94, 90.96, 329.73, 11.37, 193.29, 375.21, 246.35, 7.58, 242.56, 75.8, 303.2, 0.0, 162.97, 318.36, 11.37, 155.39, 348.68, 11.37, 140.23, 136.44, 147.81, 314.57, 360.05, 0.0, 26.53, 174.34, 94.75, 18.95, 257.72, 98.54, 314.57, 204.66, 185.71, 231.19, 132.65, 0.0, 0.0, 0.0, 360.05, 49.27, 295.62, 22.74, 299.41, 3.79, 34.11, 68.22, 125.07, 0.0, 144.02, 15.16, 147.81, 151.6, 0.0, 379.0, 136.44, 7.58, 246.35, 371.42, 34.11, 322.15, 193.29, 272.88, 234.98, 144.02, 98.54, 37.9, 227.4, 0.0, 45.48, 216.03, 49.27, 162.97, 284.25, 193.29, 18.95, 306.99, 280.46, 310.78, 11.37, 147.81, 155.39, 0.0, 136.44, 265.3, 0.0, 178.13, 174.34, 155.39, 121.28, 155.39, 18.95, 18.95, 18.95, 49.27, 0.0, 348.68, 151.6, 0.0, 0.0, 360.05, 72.01, 318.36, 26.53, 189.5, 87.17, 318.36, 22.74, 53.06, 0.0, 3.79, 30.32, 325.94, 26.53, 79.59, 121.28, 242.56, 34.11, 234.98, 303.2, 178.13, 341.1, 113.7, 303.2, 26.53, 341.1, 72.01, 3.79, 360.05, 231.19, 193.29, 250.14, 227.4, 75.8, 94.75, 113.7, 269.09, 360.05, 117.49, 288.04, 242.56, 121.28, 30.32, 212.24, 189.5, 121.28, 144.02, 90.96, 11.37, 18.95, 269.09, 295.62, 15.16, 49.27, 329.73, 318.36, 132.65, 318.36, 269.09, 344.89, 26.53, 204.66, 0.0, 299.41, 37.9, 136.44, 379.0, 0.0, 212.24, 189.5, 136.44, 109.91, 37.9, 37.9, 0.0, 64.43, 7.58, 265.3, 0.0, 98.54, 15.16, 18.95, 322.15, 3.79, 3.79, 15.16, 56.85, 291.83, 106.12, 159.18, 41.69, 367.63, 113.7, 197.08, 102.33, 7.58, 30.32, 3.79, 3.79, 87.17, 68.22, 0.0, 367.63, 60.64, 7.58, 303.2, 344.89, 314.57, 227.4, 72.01, 3.79, 109.91, 329.73, 79.59, 0.0, 159.18, 18.95, 15.16, 216.03, 75.8, 212.24, 60.64, 269.09, 3.79, 155.39, 310.78, 261.51, 132.65, 242.56, 90.96, 265.3, 75.8, 83.38, 79.59, 303.2, 193.29, 72.01, 56.85, 348.68, 30.32, 140.23, 337.31, 26.53, 3.79, 360.05, 360.05, 64.43, 363.84, 231.19, 185.71, 284.25, 178.13, 136.44, 181.92, 3.79, 288.04, 238.77, 348.68, 45.48, 0.0, 0.0, 68.22, 162.97, 166.76, 276.67, 132.65, 242.56, 45.48, 18.95, 219.82, 200.87, 3.79, 212.24, 0.0, 318.36, 310.78, 60.64, 147.81, 18.95, 341.1, 375.21, 117.49, 0.0, 295.62, 379.0, 318.36, 360.05, 72.01, 0.0, 98.54, 151.6, 257.72, 18.95, 30.32, 68.22, 276.67, 0.0, 41.69, 0.0, 0.0, 26.53, 204.66, 7.58, 121.28, 60.64, 276.67, 333.52, 94.75, 269.09, 288.04, 0.0, 0.0, 0.0, 375.21, 7.58, 200.87, 26.53, 276.67, 162.97, 181.92, 250.14]\n"
     ]
    }
   ],
   "source": [
    "from MR.mr_methods.egger_regression import mr_egger_regression\n",
    "from MR.mr_methods.inverse_variance_weighted import mr_inverse_variance_weighted\n",
    "from MR.mr_methods.maximum_likelihood import mr_maximum_likelihood\n",
    "from MR.mr_methods.median import mr_penalised_weighted_median, mr_simple_median, mr_weighted_median\n",
    "from MR.mr_methods.mode import mr_simple_mode, mr_weighted_mode\n",
    "from MR.mr_methods.outliers import mr_presso, mr_remove_outliers\n",
    "from MR.mr_methods.wald_ratio import mr_wald_ratio\n",
    "\n",
    "\n",
    "data = mr_remove_outliers(processed_data, 'cooks distance')\n",
    "# data = processed_data\n",
    "\n",
    "mr_presso(data, k=100)\n",
    "\n",
    "# print('Inverse Variance Weighted')\n",
    "# result = mr_inverse_variance_weighted(data['beta_exp'], data['beta_out'], data['se_out'])\n",
    "# print(f'Effect: {result[\"effect\"]}')\n",
    "# print(f'se: {result[\"se\"]}')\n",
    "# print(f'pval: {result[\"pval\"]}\\n')\n",
    "\n",
    "# print('Wald ratio')\n",
    "# result = mr_wald_ratio(data['beta_exp'], data['beta_out'], data['se_out'])\n",
    "# print(f'Effect: {result[\"effect\"]}')\n",
    "# print(f'se: {result[\"se\"]}')\n",
    "# print(f'pval: {result[\"pval\"]}\\n')\n",
    "\n",
    "# print('Simple Median')\n",
    "# result = mr_simple_median(data['beta_exp'], data['beta_out'], data['se_exp'], data['se_out'], 1000)\n",
    "# print(f'Effect: {result[\"effect\"]}')\n",
    "# print(f'se: {result[\"se\"]}')\n",
    "# print(f'pval: {result[\"pval\"]}\\n')\n",
    "\n",
    "# print('Weighted Median')\n",
    "# result = mr_weighted_median(data['beta_exp'], data['beta_out'], data['se_exp'], data['se_out'])\n",
    "# print(f'Effect: {result[\"effect\"]}')\n",
    "# print(f'se: {result[\"se\"]}')\n",
    "# print(f'pval: {result[\"pval\"]}\\n')\n",
    "\n",
    "# # print('Penalised Weighted Median')\n",
    "# # result = mr_penalised_weighted_median(data['beta_exp'], data['beta_out'], data['se_exp'], data['se_out'])\n",
    "# # print(f'Effect: {result[\"effect\"]}')\n",
    "# # print(f'se: {result[\"se\"]}')\n",
    "# # print(f'pval: {result[\"pval\"]}\\n')\n",
    "\n",
    "# print('Egger Regression')\n",
    "# result = mr_egger_regression(data['beta_exp'], data['beta_out'], data['se_out'])\n",
    "# print(f'Effect: {result[\"effect\"]}')\n",
    "# print(f'se: {result[\"se\"]}')\n",
    "# print(f'pval: {result[\"pval\"]}\\n')\n",
    "\n",
    "# print('Simple Mode')\n",
    "# result = mr_simple_mode(data['beta_exp'], data['beta_out'], data['se_exp'], data['se_out'])\n",
    "# print(f'Effect: {result[\"effect\"]}')\n",
    "# print(f'se: {result[\"se\"]}')\n",
    "# print(f'pval: {result[\"pval\"]}\\n')\n",
    "\n",
    "# print('Weighted Mode')\n",
    "# result = mr_weighted_mode(data['beta_exp'], data['beta_out'], data['se_exp'], data['se_out'])\n",
    "# print(f'Effect: {result[\"effect\"]}')\n",
    "# print(f'se: {result[\"se\"]}')\n",
    "# print(f'pval: {result[\"pval\"]}\\n')\n",
    "\n",
    "# # print('Penalised Weighted Mode')\n",
    "# # result = mr_penalised_weighted_mode(data['beta_exp'], data['beta_out'], data['se_exp'], data['se_out'])\n",
    "# # print(f'Effect: {result[\"effect\"]}')\n",
    "# # print(f'se: {result[\"se\"]}')\n",
    "# # print(f'pval: {result[\"pval\"]}\\n')\n",
    "\n",
    "# print('Maximum Likelihood')\n",
    "# result = mr_maximum_likelihood(data['beta_exp'], data['beta_out'], data['se_exp'], data['se_out'])\n",
    "# print(f'Effect: {result[\"effect\"]}')\n",
    "# print(f'se: {result[\"se\"]}')\n",
    "# print(f'pval: {result[\"pval\"]}\\n')\n"
   ]
  }
 ],
 "metadata": {
  "kernelspec": {
   "display_name": "Python 3",
   "language": "python",
   "name": "python3"
  },
  "language_info": {
   "codemirror_mode": {
    "name": "ipython",
    "version": 3
   },
   "file_extension": ".py",
   "mimetype": "text/x-python",
   "name": "python",
   "nbconvert_exporter": "python",
   "pygments_lexer": "ipython3",
   "version": "3.11.8"
  }
 },
 "nbformat": 4,
 "nbformat_minor": 2
}
