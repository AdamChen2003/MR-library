{
 "cells": [
  {
   "cell_type": "markdown",
   "metadata": {},
   "source": [
    "Reading in the data and then filtering out SNPs which do not meet p value significance before joining the data together."
   ]
  },
  {
   "cell_type": "code",
   "execution_count": 1,
   "metadata": {},
   "outputs": [
    {
     "name": "stdout",
     "output_type": "stream",
     "text": [
      "(75089, 26)\n"
     ]
    }
   ],
   "source": [
    "%load_ext autoreload\n",
    "%autoreload 2\n",
    "\n",
    "import polars as pl\n",
    "\n",
    "# exp: Exposure\n",
    "# out: Outcome\n",
    "# ea: Exposure allele\n",
    "# oa: Other allele\n",
    "\n",
    "exp_header_dict = {\n",
    "  'rsID':'rsid',\n",
    "  'CHROM':'chr_exp',\n",
    "  'ALT':'ea_exp',\n",
    "  'REF':'oa_exp',\n",
    "  'POOLED_ALT_AF':'eaf_exp',\n",
    "  'EFFECT_SIZE':'beta_exp',\n",
    "  'SE':'se_exp',\n",
    "  'pvalue':'pval_exp'\n",
    "}\n",
    "\n",
    "out_header_dict = {\n",
    "  'markername':'rsid',\n",
    "  'chr':'chr_out',\n",
    "  'bp_hg19':'pos_out',\n",
    "  'effect_allele':'ea_out',\n",
    "  'noneffect_allele':'oa_out',\n",
    "  'effect_allele_freq':'eaf_out',\n",
    "  'beta':'beta_out',\n",
    "  'se_dgc':'se_out',\n",
    "  'p_dgc':'pval_out'}\n",
    "\n",
    "pthresh = 5e-8\n",
    "\n",
    "# Renaming columns and filtering data to only include observations which fulfill significance threshold\n",
    "dexp = (pl.scan_csv(\"dataset/ldlc_gwas.txt\",separator=\"\\t\")\n",
    "        .rename(exp_header_dict)\n",
    "        .filter((pl.col('pval_exp') < pthresh)))\n",
    "dout = (pl.scan_csv(\"dataset/mi_gwas.tsv\",separator=\"\\t\")\n",
    "        .rename(out_header_dict))\n",
    "\n",
    "combined = (dexp.join(dout, on='rsid')\n",
    "            # Convert all data to lowercase\n",
    "            .with_columns(\n",
    "                pl.col('ea_exp').str.to_lowercase(),\n",
    "                pl.col('oa_exp').str.to_lowercase(),\n",
    "                pl.col('ea_out').str.to_lowercase(),\n",
    "                pl.col('oa_out').str.to_lowercase(),\n",
    "            # Convert minor allele freq to effect allele freq\n",
    "                pl.col('eaf_exp').mul(-1).add(1))\n",
    "            .collect())\n",
    "\n",
    "print(combined.shape)"
   ]
  },
  {
   "cell_type": "markdown",
   "metadata": {},
   "source": [
    "We can use the provided harmonize function."
   ]
  },
  {
   "cell_type": "code",
   "execution_count": 2,
   "metadata": {},
   "outputs": [
    {
     "name": "stdout",
     "output_type": "stream",
     "text": [
      "(73095, 26)\n",
      "(73095, 26)\n"
     ]
    }
   ],
   "source": [
    "from MR.harmonize import harmonize\n",
    "\n",
    "total = harmonize(combined, palindromic_action=1, palindromic_threshold=0.08)\n",
    "print(total.shape)\n",
    "\n",
    "# Seeing if duplicates are dropped\n",
    "print(total.unique(subset=['rsid']).shape)"
   ]
  },
  {
   "cell_type": "markdown",
   "metadata": {},
   "source": [
    "Clumping the data based on Linkage Disequilibirum (LD). This is to filter out SNPs which are closely correlated in order to essentially avoid double counting results into the final calculation."
   ]
  },
  {
   "cell_type": "code",
   "execution_count": 3,
   "metadata": {},
   "outputs": [
    {
     "name": "stdout",
     "output_type": "stream",
     "text": [
      "(379, 26)\n"
     ]
    }
   ],
   "source": [
    "from MR.ld import ld_clump\n",
    "\n",
    "pruned_rsids = ld_clump(total['rsid'], total['pval_exp'])\n",
    "\n",
    "processed_data = (total.join(pruned_rsids, on='rsid'))\n",
    "\n",
    "print(processed_data.shape)"
   ]
  },
  {
   "cell_type": "code",
   "execution_count": 4,
   "metadata": {},
   "outputs": [],
   "source": [
    "from MR.ld import ld_matrix\n",
    "\n",
    "# print(ld_matrix(processed_data['rsid']))"
   ]
  },
  {
   "cell_type": "markdown",
   "metadata": {},
   "source": [
    "Calculating causal effects."
   ]
  },
  {
   "cell_type": "code",
   "execution_count": 73,
   "metadata": {},
   "outputs": [
    {
     "name": "stdout",
     "output_type": "stream",
     "text": [
      "0.5139308488129113\n",
      "[0.20522607822943922, 0.1310994851233399, 0.14558586540005944, 0.19777087564123394, 0.1539444697245629, 0.19200202430903507, 0.14053813393812817, 0.17966447012741196, 0.13216650604324254, 0.17036368030172386, 0.1609671179225337, 0.165198793251735, 0.14318381775310465, 0.12824191198631446, 0.14228720141594695, 0.15405645090797904, 0.15165468216874556, 0.12457332980739408, 0.14444450839537135, 0.15313143120458222, 0.1500851844145176, 0.1632497418620656, 0.12578369084714394, 0.18155550809608326, 0.13222603674559394, 0.14926849587551486, 0.16612391732285578, 0.12461042362714103, 0.15347689954521138, 0.18577476314754376, 0.13794577295727176, 0.1750210869821127, 0.17932385326446498, 0.17024391921210208, 0.18056767814522878, 0.1649002271620198, 0.14177494841862887, 0.1575647624064084, 0.15749234197301173, 0.14580052934853277, 0.13637290333797727, 0.18806377860609969, 0.13468687468639298, 0.19477992785076217, 0.18464038072638117, 0.16457402177004932, 0.1576710186520632, 0.17277284162989612, 0.14706678925300065, 0.17132085591367308, 0.1873417458558766, 0.16180269923102375, 0.1913464008180469, 0.18451779702686744, 0.1882924034889318, 0.17799788270559116, 0.1452753763537035, 0.13652924340520678, 0.15431752481203526, 0.15286741551664362, 0.16180237718314563, 0.15009843611313559, 0.1467113814933725, 0.1278906111434134, 0.15642834245732465, 0.17283477504085798, 0.15872627411052642, 0.19625490618405464, 0.16280043905022754, 0.19419366361629037, 0.14094602839806644, 0.18247374889756215, 0.1796686330907783, 0.16095045182756978, 0.1348837163089798, 0.2028147229130551, 0.15521354010913865, 0.1455614128694701, 0.1276075705040412, 0.1889201119739219, 0.13436656617219966, 0.1463306197112177, 0.17412313908792745, 0.14176538041697015, 0.19393935167047857, 0.1613407681010267, 0.15585175463153522, 0.18508948516884471, 0.2247547324603076, 0.19491779278405696, 0.17468792557558963, 0.19569385176947593, 0.18559313609284633, 0.1874957473012267, 0.21329042792410244, 0.15912501236802917, 0.17158191434006254, 0.14482187053650722, 0.16190131179039766, 0.16686432116836222]\n",
      "0.0\n"
     ]
    }
   ],
   "source": [
    "from MR.mr_methods.egger_regression import mr_egger_regression\n",
    "from MR.mr_methods.inverse_variance_weighted import mr_inverse_variance_weighted\n",
    "from MR.mr_methods.maximum_likelihood import mr_maximum_likelihood\n",
    "from MR.mr_methods.median import mr_penalised_weighted_median, mr_simple_median, mr_weighted_median\n",
    "from MR.mr_methods.mode import mr_simple_mode, mr_weighted_mode\n",
    "from MR.mr_methods.outliers import mr_presso_global_test, mr_remove_outliers\n",
    "from MR.mr_methods.wald_ratio import mr_wald_ratio\n",
    "\n",
    "\n",
    "data = mr_remove_outliers(processed_data, 'cooks distance')\n",
    "# data = processed_data\n",
    "\n",
    "mr_presso_global_test(data, k=1000)\n",
    "\n",
    "# print('Inverse Variance Weighted')\n",
    "# result = mr_inverse_variance_weighted(data['beta_exp'], data['beta_out'], data['se_out'])\n",
    "# print(f'Effect: {result[\"effect\"]}')\n",
    "# print(f'se: {result[\"se\"]}')\n",
    "# print(f'pval: {result[\"pval\"]}\\n')\n",
    "\n",
    "# print('Wald ratio')\n",
    "# result = mr_wald_ratio(data['beta_exp'], data['beta_out'], data['se_out'])\n",
    "# print(f'Effect: {result[\"effect\"]}')\n",
    "# print(f'se: {result[\"se\"]}')\n",
    "# print(f'pval: {result[\"pval\"]}\\n')\n",
    "\n",
    "# print('Simple Median')\n",
    "# result = mr_simple_median(data['beta_exp'], data['beta_out'], data['se_exp'], data['se_out'], 1000)\n",
    "# print(f'Effect: {result[\"effect\"]}')\n",
    "# print(f'se: {result[\"se\"]}')\n",
    "# print(f'pval: {result[\"pval\"]}\\n')\n",
    "\n",
    "# print('Weighted Median')\n",
    "# result = mr_weighted_median(data['beta_exp'], data['beta_out'], data['se_exp'], data['se_out'])\n",
    "# print(f'Effect: {result[\"effect\"]}')\n",
    "# print(f'se: {result[\"se\"]}')\n",
    "# print(f'pval: {result[\"pval\"]}\\n')\n",
    "\n",
    "# # print('Penalised Weighted Median')\n",
    "# # result = mr_penalised_weighted_median(data['beta_exp'], data['beta_out'], data['se_exp'], data['se_out'])\n",
    "# # print(f'Effect: {result[\"effect\"]}')\n",
    "# # print(f'se: {result[\"se\"]}')\n",
    "# # print(f'pval: {result[\"pval\"]}\\n')\n",
    "\n",
    "# print('Egger Regression')\n",
    "# result = mr_egger_regression(data['beta_exp'], data['beta_out'], data['se_out'])\n",
    "# print(f'Effect: {result[\"effect\"]}')\n",
    "# print(f'se: {result[\"se\"]}')\n",
    "# print(f'pval: {result[\"pval\"]}\\n')\n",
    "\n",
    "# print('Simple Mode')\n",
    "# result = mr_simple_mode(data['beta_exp'], data['beta_out'], data['se_exp'], data['se_out'])\n",
    "# print(f'Effect: {result[\"effect\"]}')\n",
    "# print(f'se: {result[\"se\"]}')\n",
    "# print(f'pval: {result[\"pval\"]}\\n')\n",
    "\n",
    "# print('Weighted Mode')\n",
    "# result = mr_weighted_mode(data['beta_exp'], data['beta_out'], data['se_exp'], data['se_out'])\n",
    "# print(f'Effect: {result[\"effect\"]}')\n",
    "# print(f'se: {result[\"se\"]}')\n",
    "# print(f'pval: {result[\"pval\"]}\\n')\n",
    "\n",
    "# # print('Penalised Weighted Mode')\n",
    "# # result = mr_penalised_weighted_mode(data['beta_exp'], data['beta_out'], data['se_exp'], data['se_out'])\n",
    "# # print(f'Effect: {result[\"effect\"]}')\n",
    "# # print(f'se: {result[\"se\"]}')\n",
    "# # print(f'pval: {result[\"pval\"]}\\n')\n",
    "\n",
    "# print('Maximum Likelihood')\n",
    "# result = mr_maximum_likelihood(data['beta_exp'], data['beta_out'], data['se_exp'], data['se_out'])\n",
    "# print(f'Effect: {result[\"effect\"]}')\n",
    "# print(f'se: {result[\"se\"]}')\n",
    "# print(f'pval: {result[\"pval\"]}\\n')\n"
   ]
  }
 ],
 "metadata": {
  "kernelspec": {
   "display_name": "Python 3",
   "language": "python",
   "name": "python3"
  },
  "language_info": {
   "codemirror_mode": {
    "name": "ipython",
    "version": 3
   },
   "file_extension": ".py",
   "mimetype": "text/x-python",
   "name": "python",
   "nbconvert_exporter": "python",
   "pygments_lexer": "ipython3",
   "version": "3.11.8"
  }
 },
 "nbformat": 4,
 "nbformat_minor": 2
}
