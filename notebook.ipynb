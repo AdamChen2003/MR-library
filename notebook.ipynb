{
 "cells": [
  {
   "cell_type": "markdown",
   "metadata": {},
   "source": [
    "Reading in the data and then filtering out SNPs which do not meet p value significance before joining the data together."
   ]
  },
  {
   "cell_type": "code",
   "execution_count": 1,
   "metadata": {},
   "outputs": [
    {
     "name": "stdout",
     "output_type": "stream",
     "text": [
      "(75089, 26)\n"
     ]
    }
   ],
   "source": [
    "%load_ext autoreload\n",
    "%autoreload 2\n",
    "\n",
    "import polars as pl\n",
    "\n",
    "# exp: Exposure\n",
    "# out: Outcome\n",
    "# ea: Exposure allele\n",
    "# oa: Other allele\n",
    "\n",
    "exp_header_dict = {\n",
    "  'rsID':'rsid',\n",
    "  'CHROM':'chr_exp',\n",
    "  'ALT':'ea_exp',\n",
    "  'REF':'oa_exp',\n",
    "  'POOLED_ALT_AF':'eaf_exp',\n",
    "  'EFFECT_SIZE':'beta_exp',\n",
    "  'SE':'se_exp',\n",
    "  'pvalue':'pval_exp'\n",
    "}\n",
    "\n",
    "out_header_dict = {\n",
    "  'markername':'rsid',\n",
    "  'chr':'chr_out',\n",
    "  'bp_hg19':'pos_out',\n",
    "  'effect_allele':'ea_out',\n",
    "  'noneffect_allele':'oa_out',\n",
    "  'effect_allele_freq':'eaf_out',\n",
    "  'beta':'beta_out',\n",
    "  'se_dgc':'se_out',\n",
    "  'p_dgc':'pval_out'}\n",
    "\n",
    "pthresh = 5e-8\n",
    "\n",
    "# Renaming columns and filtering data to only include observations which fulfill significance threshold\n",
    "dexp = (pl.scan_csv(\"dataset/ldlc_gwas.txt\",separator=\"\\t\")\n",
    "        .rename(exp_header_dict)\n",
    "        .filter((pl.col('pval_exp') < pthresh)))\n",
    "dout = (pl.scan_csv(\"dataset/mi_gwas.tsv\",separator=\"\\t\")\n",
    "        .rename(out_header_dict))\n",
    "\n",
    "combined = (dexp.join(dout, on='rsid')\n",
    "            # Convert all data to lowercase\n",
    "            .with_columns(\n",
    "                pl.col('ea_exp').str.to_lowercase(),\n",
    "                pl.col('oa_exp').str.to_lowercase(),\n",
    "                pl.col('ea_out').str.to_lowercase(),\n",
    "                pl.col('oa_out').str.to_lowercase(),\n",
    "            # Convert minor allele freq to effect allele freq\n",
    "                pl.col('eaf_exp').mul(-1).add(1))\n",
    "            .collect())\n",
    "\n",
    "print(combined.shape)"
   ]
  },
  {
   "cell_type": "markdown",
   "metadata": {},
   "source": [
    "We can use the provided harmonize function."
   ]
  },
  {
   "cell_type": "code",
   "execution_count": 2,
   "metadata": {},
   "outputs": [
    {
     "name": "stdout",
     "output_type": "stream",
     "text": [
      "(73095, 26)\n",
      "(73095, 26)\n"
     ]
    }
   ],
   "source": [
    "from MR.harmonize import harmonize\n",
    "\n",
    "total = harmonize(combined, palindromic_action=1, palindromic_threshold=0.08)\n",
    "print(total.shape)\n",
    "\n",
    "# Seeing if duplicates are dropped\n",
    "print(total.unique(subset=['rsid']).shape)"
   ]
  },
  {
   "cell_type": "markdown",
   "metadata": {},
   "source": [
    "Clumping the data based on Linkage Disequilibirum (LD). This is to filter out SNPs which are closely correlated in order to essentially avoid double counting results into the final calculation."
   ]
  },
  {
   "cell_type": "code",
   "execution_count": 3,
   "metadata": {},
   "outputs": [],
   "source": [
    "from MR.ld import ld_clump\n",
    "\n",
    "pruned_rsids = ld_clump(total['rsid'], total['pval_exp'])\n",
    "\n",
    "processed_data = (total.join(pruned_rsids, on='rsid'))\n",
    "\n",
    "print(processed_data.shape)"
   ]
  },
  {
   "cell_type": "markdown",
   "metadata": {},
   "source": [
    "Calculating causal effects."
   ]
  },
  {
   "cell_type": "code",
   "execution_count": 9,
   "metadata": {},
   "outputs": [
    {
     "name": "stdout",
     "output_type": "stream",
     "text": [
      "(379, 26)\n",
      "['inverse_variance_weighted', 'wald_ratio', 'maximum_likelihood', 'simple_median', 'weighted_median', 'penalised_weighted_median', 'simple_mode', 'weighted_mode', 'penalised_weighted_mode', 'egger_regression', 'presso']\n",
      "\n",
      "Simple Median\n",
      "Effect: 0.5134897781385475\n",
      "se: 0.05539473337724837\n",
      "pval: 1.8675812265736418e-20\n",
      "\n",
      "Weighted Median\n",
      "Effect: 2.253737117423882\n",
      "se: 0.14443006375045928\n",
      "pval: 6.799982962471704e-55\n",
      "\n",
      "Penalised Weighted Median\n",
      "Effect: 2.2544937754237173\n",
      "se: 0.14870361236164836\n",
      "pval: 6.409720285565536e-52\n",
      "\n"
     ]
    }
   ],
   "source": [
    "from MR.calculate_effect import calculate_effect, methods\n",
    "\n",
    "print(processed_data.shape)\n",
    "print(methods)\n",
    "print()\n",
    "\n",
    "# print('MR Presso')\n",
    "# result = calculate_effect(processed_data, 'presso')\n",
    "# print(f'Effect: {result[\"effect\"]}')\n",
    "# print(f'se: {result[\"se\"]}\\n')\n",
    "\n",
    "# print('Inverse Variance Weighted')\n",
    "# result = calculate_effect(processed_data, 'inverse_variance_weighted')\n",
    "# print(f'Effect: {result[\"effect\"]}')\n",
    "# print(f'se: {result[\"se\"]}')\n",
    "# print(f'pval: {result[\"pval\"]}\\n')\n",
    "\n",
    "# print('Wald ratio')\n",
    "# result = calculate_effect(processed_data, 'wald_ratio')\n",
    "# print(f'Effect: {result[\"effect\"]}')\n",
    "# print(f'se: {result[\"se\"]}')\n",
    "# print(f'pval: {result[\"pval\"]}\\n')\n",
    "\n",
    "# print('Simple Median')\n",
    "# result = calculate_effect(data=processed_data, method='simple_median')\n",
    "# print(f'Effect: {result[\"effect\"]}')\n",
    "# print(f'se: {result[\"se\"]}')\n",
    "# print(f'pval: {result[\"pval\"]}\\n')\n",
    "\n",
    "# print('Weighted Median')\n",
    "# result = calculate_effect(processed_data, 'weighted_median')\n",
    "# print(f'Effect: {result[\"effect\"]}')\n",
    "# print(f'se: {result[\"se\"]}')\n",
    "# print(f'pval: {result[\"pval\"]}\\n')\n",
    "\n",
    "# print('Penalised Weighted Median')\n",
    "# result = calculate_effect(processed_data, 'penalised_weighted_median')\n",
    "# print(f'Effect: {result[\"effect\"]}')\n",
    "# print(f'se: {result[\"se\"]}')\n",
    "# print(f'pval: {result[\"pval\"]}\\n')\n",
    "\n",
    "# print('Egger Regression')\n",
    "# result = calculate_effect(processed_data, 'egger_regression')\n",
    "# print(f'Effect: {result[\"effect\"]}')\n",
    "# print(f'se: {result[\"se\"]}')\n",
    "# print(f'pval: {result[\"pval\"]}\\n')\n",
    "\n",
    "# print('Simple Mode')\n",
    "# result = calculate_effect(processed_data, 'simple_mode')\n",
    "# print(f'Effect: {result[\"effect\"]}')\n",
    "# print(f'se: {result[\"se\"]}')\n",
    "# print(f'pval: {result[\"pval\"]}\\n')\n",
    "\n",
    "# print('Weighted Mode')\n",
    "# result = calculate_effect(processed_data, 'weighted_mode')\n",
    "# print(f'Effect: {result[\"effect\"]}')\n",
    "# print(f'se: {result[\"se\"]}')\n",
    "# print(f'pval: {result[\"pval\"]}\\n')\n",
    "\n",
    "# # print('Penalised Weighted Mode')\n",
    "# # result = calculate_effect(processed_data, 'penalised_weighted_mode')\n",
    "# # print(f'Effect: {result[\"effect\"]}')\n",
    "# # print(f'se: {result[\"se\"]}')\n",
    "# # print(f'pval: {result[\"pval\"]}\\n')\n",
    "\n",
    "# print('Maximum Likelihood')\n",
    "# result = calculate_effect(processed_data, 'maximum_likelihood')\n",
    "# print(f'Effect: {result[\"effect\"]}')\n",
    "# print(f'se: {result[\"se\"]}')\n",
    "# print(f'pval: {result[\"pval\"]}\\n')\n"
   ]
  },
  {
   "cell_type": "code",
   "execution_count": 10,
   "metadata": {},
   "outputs": [
    {
     "name": "stdout",
     "output_type": "stream",
     "text": [
      "Inverse Variance Weighted\n",
      "Effect: 0.4129020632417699\n",
      "se: 0.04660832025520153\n",
      "pval: 0.0\n",
      "\n"
     ]
    }
   ],
   "source": [
    "# print('MR Presso')\n",
    "# result = calculate_effect(processed_data, 'presso')\n",
    "# print(f'Effect: {result[\"effect\"]}')\n",
    "# print(f'se: {result[\"se\"]}\\n')\n",
    "\n",
    "from MR.mr_methods.egger_regression import mr_egger_regression\n",
    "from MR.mr_methods.inverse_variance_weighted import mr_inverse_variance_weighted\n",
    "from MR.mr_methods.maximum_likelihood import mr_maximum_likelihood\n",
    "from MR.mr_methods.median import mr_penalised_weighted_median, mr_simple_median, mr_weighted_median\n",
    "from MR.mr_methods.mode import mr_simple_mode, mr_weighted_mode\n",
    "from MR.mr_methods.wald_ratio import mr_wald_ratio\n",
    "\n",
    "data = processed_data\n",
    "\n",
    "print('Inverse Variance Weighted')\n",
    "result = mr_inverse_variance_weighted(data['beta_exp'], data['beta_out'], data['se_out'])\n",
    "print(f'Effect: {result[\"effect\"]}')\n",
    "print(f'se: {result[\"se\"]}')\n",
    "print(f'pval: {result[\"pval\"]}\\n')\n",
    "\n",
    "print('Wald ratio')\n",
    "result = mr_wald_ratio(data['beta_exp'], data['beta_out'], data['se_out'])\n",
    "print(f'Effect: {result[\"effect\"]}')\n",
    "print(f'se: {result[\"se\"]}')\n",
    "print(f'pval: {result[\"pval\"]}\\n')\n",
    "\n",
    "print('Simple Median')\n",
    "result = mr_simple_median(data['beta_exp'], data['beta_out'], data['se_exp'], data['se_out'], 1000)\n",
    "print(f'Effect: {result[\"effect\"]}')\n",
    "print(f'se: {result[\"se\"]}')\n",
    "print(f'pval: {result[\"pval\"]}\\n')\n",
    "\n",
    "print('Weighted Median')\n",
    "result = mr_weighted_median(data['beta_exp'], data['beta_out'], data['se_exp'], data['se_out'])\n",
    "print(f'Effect: {result[\"effect\"]}')\n",
    "print(f'se: {result[\"se\"]}')\n",
    "print(f'pval: {result[\"pval\"]}\\n')\n",
    "\n",
    "print('Penalised Weighted Median')\n",
    "result = mr_penalised_weighted_median(data['beta_exp'], data['beta_out'], data['se_exp'], data['se_out'])\n",
    "print(f'Effect: {result[\"effect\"]}')\n",
    "print(f'se: {result[\"se\"]}')\n",
    "print(f'pval: {result[\"pval\"]}\\n')\n",
    "\n",
    "print('Egger Regression')\n",
    "result = mr_egger_regression(data['beta_exp'], data['beta_out'], data['se_out'])\n",
    "print(f'Effect: {result[\"effect\"]}')\n",
    "print(f'se: {result[\"se\"]}')\n",
    "print(f'pval: {result[\"pval\"]}\\n')\n",
    "\n",
    "print('Simple Mode')\n",
    "result = mr_simple_mode(data['beta_exp'], data['beta_out'], data['se_exp'], data['se_out'])\n",
    "print(f'Effect: {result[\"effect\"]}')\n",
    "print(f'se: {result[\"se\"]}')\n",
    "print(f'pval: {result[\"pval\"]}\\n')\n",
    "\n",
    "print('Weighted Mode')\n",
    "result = mr_weighted_mode(data['beta_exp'], data['beta_out'], data['se_exp'], data['se_out'])\n",
    "print(f'Effect: {result[\"effect\"]}')\n",
    "print(f'se: {result[\"se\"]}')\n",
    "print(f'pval: {result[\"pval\"]}\\n')\n",
    "\n",
    "# print('Penalised Weighted Mode')\n",
    "# result = mr_penalised_weighted_mode(data['beta_exp'], data['beta_out'], data['se_exp'], data['se_out'])\n",
    "# print(f'Effect: {result[\"effect\"]}')\n",
    "# print(f'se: {result[\"se\"]}')\n",
    "# print(f'pval: {result[\"pval\"]}\\n')\n",
    "\n",
    "print('Maximum Likelihood')\n",
    "result = mr_maximum_likelihood(data['beta_exp'], data['beta_out'], data['se_exp'], data['se_out'])\n",
    "print(f'Effect: {result[\"effect\"]}')\n",
    "print(f'se: {result[\"se\"]}')\n",
    "print(f'pval: {result[\"pval\"]}\\n')\n"
   ]
  }
 ],
 "metadata": {
  "kernelspec": {
   "display_name": "Python 3",
   "language": "python",
   "name": "python3"
  },
  "language_info": {
   "codemirror_mode": {
    "name": "ipython",
    "version": 3
   },
   "file_extension": ".py",
   "mimetype": "text/x-python",
   "name": "python",
   "nbconvert_exporter": "python",
   "pygments_lexer": "ipython3",
   "version": "3.11.6"
  }
 },
 "nbformat": 4,
 "nbformat_minor": 2
}
