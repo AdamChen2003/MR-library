{
 "cells": [
  {
   "cell_type": "markdown",
   "metadata": {},
   "source": [
    "Reading in the data and then filtering out SNPs which do not meet p value significance before joining the data together."
   ]
  },
  {
   "cell_type": "code",
   "execution_count": 1,
   "metadata": {},
   "outputs": [
    {
     "name": "stdout",
     "output_type": "stream",
     "text": [
      "(75089, 26)\n"
     ]
    }
   ],
   "source": [
    "%load_ext autoreload\n",
    "%autoreload 2\n",
    "\n",
    "import polars as pl\n",
    "\n",
    "# exp: Exposure\n",
    "# out: Outcome\n",
    "# ea: Exposure allele\n",
    "# oa: Other allele\n",
    "\n",
    "exp_header_dict = {\n",
    "  'rsID':'rsid',\n",
    "  'CHROM':'chr_exp',\n",
    "  'ALT':'ea_exp',\n",
    "  'REF':'oa_exp',\n",
    "  'POOLED_ALT_AF':'eaf_exp',\n",
    "  'EFFECT_SIZE':'beta_exp',\n",
    "  'SE':'se_exp',\n",
    "  'pvalue':'pval_exp'\n",
    "}\n",
    "\n",
    "out_header_dict = {\n",
    "  'markername':'rsid',\n",
    "  'chr':'chr_out',\n",
    "  'bp_hg19':'pos_out',\n",
    "  'effect_allele':'ea_out',\n",
    "  'noneffect_allele':'oa_out',\n",
    "  'effect_allele_freq':'eaf_out',\n",
    "  'beta':'beta_out',\n",
    "  'se_dgc':'se_out',\n",
    "  'p_dgc':'pval_out'}\n",
    "\n",
    "pthresh = 5e-8\n",
    "\n",
    "# Renaming columns and filtering data to only include observations which fulfill significance threshold\n",
    "dexp = (pl.scan_csv(\"dataset/ldlc_gwas.txt\",separator=\"\\t\")\n",
    "        .rename(exp_header_dict)\n",
    "        .filter((pl.col('pval_exp') < pthresh)))\n",
    "dout = (pl.scan_csv(\"dataset/mi_gwas.tsv\",separator=\"\\t\")\n",
    "        .rename(out_header_dict))\n",
    "\n",
    "combined = (dexp.join(dout, on='rsid')\n",
    "            # Convert all data to lowercase\n",
    "            .with_columns(\n",
    "                pl.col('ea_exp').str.to_lowercase(),\n",
    "                pl.col('oa_exp').str.to_lowercase(),\n",
    "                pl.col('ea_out').str.to_lowercase(),\n",
    "                pl.col('oa_out').str.to_lowercase(),\n",
    "            # Convert minor allele freq to effect allele freq\n",
    "                pl.col('eaf_exp').mul(-1).add(1))\n",
    "            .collect())\n",
    "\n",
    "print(combined.shape)"
   ]
  },
  {
   "cell_type": "markdown",
   "metadata": {},
   "source": [
    "Harmonizing the data.\n",
    "\n",
    "Gathering all SNPs using fowards strand with matching effect and alternate alleles between exposure and outcome."
   ]
  },
  {
   "cell_type": "code",
   "execution_count": 2,
   "metadata": {},
   "outputs": [],
   "source": [
    "forwards_same = combined.filter(((pl.col('ea_exp') == pl.col('ea_out')) & (pl.col('oa_exp') == pl.col('oa_out'))))"
   ]
  },
  {
   "cell_type": "markdown",
   "metadata": {},
   "source": [
    "Gathering all SNPs using forwards strand with flipped effect and alternate alleles between exposure and outcome. The effect is then multiplied by -1."
   ]
  },
  {
   "cell_type": "code",
   "execution_count": 3,
   "metadata": {},
   "outputs": [],
   "source": [
    "forwards_flipped = (\n",
    "  combined.filter(((pl.col('ea_exp') == pl.col('oa_out')) & (pl.col('oa_exp') == pl.col('ea_out'))))\n",
    "  .with_columns(\n",
    "    # Flip the signs of the outcome effects\n",
    "    pl.col('beta_out').mul(-1),\n",
    "    # Flip the effect allele frequency\n",
    "    pl.col('eaf_out').mul(-1).add(1)\n",
    "  )\n",
    ").rename({\n",
    "    'oa_out': 'ea_out',\n",
    "    'ea_out': 'oa_out',\n",
    "})"
   ]
  },
  {
   "cell_type": "markdown",
   "metadata": {},
   "source": [
    "Flipping the outcome alleles of the remaining SNPs since the remaining valid SNPs must use the reverse strand."
   ]
  },
  {
   "cell_type": "code",
   "execution_count": 4,
   "metadata": {},
   "outputs": [],
   "source": [
    "# Find cases where alleles don't match\n",
    "reverse = (combined.filter(~(((pl.col('ea_exp') == pl.col('ea_out')) & (pl.col('oa_exp') == pl.col('oa_out'))) | \n",
    "                            (((pl.col('ea_exp') == pl.col('oa_out')) & (pl.col('oa_exp') == pl.col('ea_out'))))))\n",
    "            # Flipping the alleles\n",
    "            .with_columns(pl.col('ea_out').str.replace('a', 't'))\n",
    "            .with_columns(pl.col('ea_out').str.replace('t', 'a'))\n",
    "            .with_columns(pl.col('ea_out').str.replace('g', 'c'))\n",
    "            .with_columns(pl.col('ea_out').str.replace('c', 'g'))\n",
    "            .with_columns(pl.col('oa_out').str.replace('a', 't'))\n",
    "            .with_columns(pl.col('oa_out').str.replace('t', 'a'))\n",
    "            .with_columns(pl.col('oa_out').str.replace('g', 'c'))\n",
    "            .with_columns(pl.col('oa_out').str.replace('c', 'g'))\n",
    ")"
   ]
  },
  {
   "cell_type": "markdown",
   "metadata": {},
   "source": [
    "Gathering SNPs from reverse strand which use the same alleles for exposure and outcome."
   ]
  },
  {
   "cell_type": "code",
   "execution_count": 5,
   "metadata": {},
   "outputs": [],
   "source": [
    "reverse_same = (\n",
    "  reverse.filter(((pl.col('ea_exp') == pl.col('ea_out')) & (pl.col('oa_exp') == pl.col('oa_out'))))\n",
    ")"
   ]
  },
  {
   "cell_type": "markdown",
   "metadata": {},
   "source": [
    "Gathering SNPs from reverse strand which flipped the effect and alternate alleles. We then multiply the effect by -1."
   ]
  },
  {
   "cell_type": "code",
   "execution_count": 6,
   "metadata": {},
   "outputs": [],
   "source": [
    "reverse_flipped = (\n",
    "  # Find all reversed cases\n",
    "  reverse.filter(((pl.col('ea_exp') == pl.col('oa_out')) & (pl.col('oa_exp') == pl.col('ea_out'))))\n",
    "  .with_columns(\n",
    "    # Flip the signs of the outcome effects\n",
    "    pl.col('beta_out').mul(-1),\n",
    "    # Flip the effect allele frequency\n",
    "    pl.col('eaf_out').mul(-1).add(1)\n",
    "  )\n",
    ").rename({\n",
    "    'oa_out': 'ea_out',\n",
    "    'ea_out': 'oa_out',\n",
    "})"
   ]
  },
  {
   "cell_type": "markdown",
   "metadata": {},
   "source": [
    "Combining all the different cases into one dataframe."
   ]
  },
  {
   "cell_type": "code",
   "execution_count": 7,
   "metadata": {},
   "outputs": [
    {
     "name": "stdout",
     "output_type": "stream",
     "text": [
      "(8679, 26)\n",
      "(66342, 26)\n",
      "(1, 26)\n",
      "(6, 26)\n"
     ]
    }
   ],
   "source": [
    "print(forwards_same.shape)\n",
    "print(forwards_flipped.shape)\n",
    "print(reverse_same.shape)\n",
    "print(reverse_flipped.shape)\n",
    "\n",
    "# Combining all SNPs\n",
    "total = pl.concat([forwards_same[sorted(forwards_same.columns)],\n",
    "                    forwards_flipped[sorted(forwards_flipped.columns)], \n",
    "                    reverse_same[sorted(reverse_same.columns)], \n",
    "                    reverse_flipped[sorted(reverse_flipped.columns)]])\n",
    "\n",
    "total.write_csv('dataset/total.csv', separator='\\t')"
   ]
  },
  {
   "cell_type": "markdown",
   "metadata": {},
   "source": [
    "Dealing with palindromic SNPs. These are troublesome because we are unable to determine whether they are reverse strand or using the different effect and alternate alleles. Thus, we have to infer from the effect allele frequency."
   ]
  },
  {
   "cell_type": "code",
   "execution_count": 8,
   "metadata": {},
   "outputs": [
    {
     "name": "stdout",
     "output_type": "stream",
     "text": [
      "(73098, 26)\n"
     ]
    }
   ],
   "source": [
    "threshold = 0.08\n",
    "\n",
    "palindromic = total.filter(((pl.col('ea_exp') == 'a') & (pl.col('oa_exp') == 't')) |\n",
    "  ((pl.col('ea_exp') == 't') & (pl.col('oa_exp') == 'a')) |\n",
    "  ((pl.col('ea_exp') == 'g') & (pl.col('oa_exp') == 'c')) |\n",
    "  ((pl.col('ea_exp') == 'c') & (pl.col('oa_exp') == 'g')))\n",
    "\n",
    "total = total.filter(\n",
    "  ~(((pl.col('ea_exp') == 'a') & (pl.col('oa_exp') == 't')) |\n",
    "  ((pl.col('ea_exp') == 't') & (pl.col('oa_exp') == 'a')) |\n",
    "  ((pl.col('ea_exp') == 'g') & (pl.col('oa_exp') == 'c')) |\n",
    "  ((pl.col('ea_exp') == 'c') & (pl.col('oa_exp') == 'g')))\n",
    ")\n",
    "\n",
    "# For all SNPs where effect allele freq is greater than threshold + 0.5 and minor allele freq is less than 0.5 - threshold, flip the beta effect.\n",
    "# For all SNPs where both effect ellele freq and minor allele freq are greater than 0.5 + threshold or less than 0.5 - threshold, change nothing.\n",
    "# Otherwise, discard the SNP.\n",
    "\n",
    "correct_palindromic = palindromic.filter((((pl.col('eaf_exp') > 0.5 + threshold) & (pl.col('eaf_out') > 0.5 + threshold)) | \n",
    "                              ((pl.col('eaf_exp') < 0.5 - threshold) & (pl.col('eaf_out') < 0.5 - threshold))))\n",
    "\n",
    "flipped_palindromic =  (palindromic.filter(((pl.col('eaf_exp') > 0.5 + threshold) & (pl.col('eaf_out') < 0.5 - threshold)))\n",
    "  .with_columns(\n",
    "      # Flip the signs of the outcome effects\n",
    "      pl.col('beta_out').mul(-1)\n",
    "  )\n",
    ")\n",
    "\n",
    "total = pl.concat([total, correct_palindromic, flipped_palindromic])\n",
    "\n",
    "print(total.shape)"
   ]
  },
  {
   "cell_type": "markdown",
   "metadata": {},
   "source": [
    "Alternatively, we can use the provided harmonize function."
   ]
  },
  {
   "cell_type": "code",
   "execution_count": 9,
   "metadata": {},
   "outputs": [
    {
     "name": "stdout",
     "output_type": "stream",
     "text": [
      "(73759, 26)\n"
     ]
    }
   ],
   "source": [
    "from MR.harmonize import harmonize\n",
    "\n",
    "total = harmonize(combined)\n",
    "print(total.shape)"
   ]
  },
  {
   "cell_type": "markdown",
   "metadata": {},
   "source": [
    "Pruning the data based on Linkage Disequilibirum (LD)."
   ]
  },
  {
   "cell_type": "code",
   "execution_count": 10,
   "metadata": {},
   "outputs": [],
   "source": [
    "from MR.ld import ld_clump\n",
    "\n",
    "pruned_rsids = ld_clump(total['rsid'], total['pval_exp'])\n",
    "\n",
    "processed_data = (total.join(pruned_rsids, on='rsid'))"
   ]
  },
  {
   "cell_type": "markdown",
   "metadata": {},
   "source": [
    "Calculating causal effects."
   ]
  },
  {
   "cell_type": "code",
   "execution_count": 36,
   "metadata": {},
   "outputs": [
    {
     "name": "stdout",
     "output_type": "stream",
     "text": [
      "(448, 26)\n",
      "['inverse_variance_weighted', 'wald_ratio', 'maximum_likelihood', 'simple_median', 'weighted_median', 'penalised_weighted_median', 'simple_mode', 'weighted_mode', 'penalised_weighted_mode', 'egger_regression', 'presso']\n",
      "\n",
      "Inverse Variance Weighted\n",
      "Effect: 0.3885336590849115\n",
      "se: 0.024339255184504666\n",
      "\n",
      "Wald ratio\n",
      "Effect: shape: (448,)\n",
      "Series: 'beta_out' [f64]\n",
      "[\n",
      "\t2.264208\n",
      "\t-1.967468\n",
      "\t1.962896\n",
      "\t0.318726\n",
      "\t-0.417966\n",
      "\t-0.137194\n",
      "\t1.815582\n",
      "\t0.922458\n",
      "\t0.470684\n",
      "\t-3.331028\n",
      "\t0.368439\n",
      "\t-0.211527\n",
      "\t…\n",
      "\t0.627907\n",
      "\t-1.367675\n",
      "\t-2.167526\n",
      "\t0.537657\n",
      "\t-0.694712\n",
      "\t-0.488811\n",
      "\t-0.32226\n",
      "\t-0.507765\n",
      "\t-0.952006\n",
      "\t0.712864\n",
      "\t-1.021774\n",
      "\t-0.183355\n",
      "\t-0.693967\n",
      "]\n",
      "se: shape: (448,)\n",
      "Series: 'se_out' [f64]\n",
      "[\n",
      "\t1.353386\n",
      "\t0.789001\n",
      "\t1.485588\n",
      "\t0.800577\n",
      "\t0.789399\n",
      "\t0.998637\n",
      "\t0.909066\n",
      "\t0.587375\n",
      "\t0.441421\n",
      "\t0.70752\n",
      "\t0.739068\n",
      "\t1.291699\n",
      "\t…\n",
      "\t0.542865\n",
      "\t1.086411\n",
      "\t0.762293\n",
      "\t1.093857\n",
      "\t0.190792\n",
      "\t1.11468\n",
      "\t0.298454\n",
      "\t1.180086\n",
      "\t0.173793\n",
      "\t1.568221\n",
      "\t0.267013\n",
      "\t0.787796\n",
      "\t0.979388\n",
      "]\n",
      "\n",
      "Simple Median\n",
      "Effect: 0.5104459011676726\n",
      "se: 0.05363689114768657\n",
      "\n",
      "Weighted Median\n",
      "Effect: 2.2554858317385937\n",
      "se: 0.14169785211252758\n",
      "\n",
      "Penalised Weighted Median\n",
      "Effect: 2.2650976071516697\n",
      "se: 0.13598239640208415\n",
      "\n",
      "Egger Regression\n",
      "Effect: 0.38595305965971927\n",
      "se: 0.0477365848323039\n",
      "\n",
      "Simple Mode\n",
      "Effect: 0.5175477540560741\n",
      "se: 0.10438663977478681\n",
      "\n",
      "Weighted Mode\n",
      "Effect: 0.4494678622307886\n",
      "se: 0.04470313591208703\n",
      "\n",
      "Maximum Likelihood\n",
      "Effect: 0.3960384548742746\n",
      "se: 0.02468640390932915\n",
      "\n"
     ]
    }
   ],
   "source": [
    "from MR.calculate_effect import calculate_effect, methods\n",
    "\n",
    "print(processed_data.shape)\n",
    "print(methods)\n",
    "print()\n",
    "\n",
    "print('Inverse Variance Weighted')\n",
    "result = calculate_effect(processed_data, 'inverse_variance_weighted')\n",
    "print(f'Effect: {result[\"effect\"]}')\n",
    "print(f'se: {result[\"se\"]}\\n')\n",
    "\n",
    "print('Wald ratio')\n",
    "result = calculate_effect(processed_data, 'wald_ratio')\n",
    "print(f'Effect: {result[\"effect\"]}')\n",
    "print(f'se: {result[\"se\"]}\\n')\n",
    "\n",
    "print('Simple Median')\n",
    "result = calculate_effect(processed_data, 'simple_median')\n",
    "print(f'Effect: {result[\"effect\"]}')\n",
    "print(f'se: {result[\"se\"]}\\n')\n",
    "\n",
    "print('Weighted Median')\n",
    "result = calculate_effect(processed_data, 'weighted_median')\n",
    "print(f'Effect: {result[\"effect\"]}')\n",
    "print(f'se: {result[\"se\"]}\\n')\n",
    "\n",
    "print('Penalised Weighted Median')\n",
    "result = calculate_effect(processed_data, 'penalised_weighted_median')\n",
    "print(f'Effect: {result[\"effect\"]}')\n",
    "print(f'se: {result[\"se\"]}\\n')\n",
    "\n",
    "print('Egger Regression')\n",
    "result = calculate_effect(processed_data, 'egger_regression')\n",
    "print(f'Effect: {result[\"effect\"]}')\n",
    "print(f'se: {result[\"se\"]}\\n')\n",
    "\n",
    "print('Simple Mode')\n",
    "result = calculate_effect(processed_data, 'simple_mode')\n",
    "print(f'Effect: {result[\"effect\"]}')\n",
    "print(f'se: {result[\"se\"]}\\n')\n",
    "\n",
    "print('Weighted Mode')\n",
    "result = calculate_effect(processed_data, 'weighted_mode')\n",
    "print(f'Effect: {result[\"effect\"]}')\n",
    "print(f'se: {result[\"se\"]}\\n')\n",
    "\n",
    "# print('Penalised Weighted Mode')\n",
    "# result = calculate_effect(processed_data, 'penalised_weighted_mode')\n",
    "# print(f'Effect: {result[\"effect\"]}')\n",
    "# print(f'se: {result[\"se\"]}\\n')\n",
    "\n",
    "print('Maximum Likelihood')\n",
    "result = calculate_effect(processed_data, 'maximum_likelihood')\n",
    "print(f'Effect: {result[\"effect\"]}')\n",
    "print(f'se: {result[\"se\"]}\\n')\n"
   ]
  }
 ],
 "metadata": {
  "kernelspec": {
   "display_name": "Python 3",
   "language": "python",
   "name": "python3"
  },
  "language_info": {
   "codemirror_mode": {
    "name": "ipython",
    "version": 3
   },
   "file_extension": ".py",
   "mimetype": "text/x-python",
   "name": "python",
   "nbconvert_exporter": "python",
   "pygments_lexer": "ipython3",
   "version": "3.11.6"
  }
 },
 "nbformat": 4,
 "nbformat_minor": 2
}
