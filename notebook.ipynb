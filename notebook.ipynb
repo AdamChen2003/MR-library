{
 "cells": [
  {
   "cell_type": "markdown",
   "metadata": {},
   "source": [
    "Reading in the data and then filtering out SNPs which do not meet p value significance before joining the data together."
   ]
  },
  {
   "cell_type": "code",
   "execution_count": 52,
   "metadata": {},
   "outputs": [
    {
     "name": "stdout",
     "output_type": "stream",
     "text": [
      "(75089, 26)\n"
     ]
    }
   ],
   "source": [
    "import polars as pl\n",
    "\n",
    "# exp: Exposure\n",
    "# out: Outcome\n",
    "# ea: Exposure allele\n",
    "# oa: Other allele\n",
    "\n",
    "exp_header_dict = {\n",
    "  'rsID':'rsid',\n",
    "  'CHROM':'chr_exp',\n",
    "  'ALT':'ea_exp',\n",
    "  'REF':'oa_exp',\n",
    "  'POOLED_ALT_AF':'maf_exp',\n",
    "  'EFFECT_SIZE':'beta_exp',\n",
    "  'SE':'se_exp',\n",
    "  'pvalue':'pval_exp'\n",
    "}\n",
    "\n",
    "out_header_dict = {\n",
    "  'markername':'rsid',\n",
    "  'chr':'chr_out',\n",
    "  'bp_hg19':'pos_out',\n",
    "  'effect_allele':'ea_out',\n",
    "  'noneffect_allele':'oa_out',\n",
    "  'effect_allele_freq':'maf_out',\n",
    "  'beta':'beta_out',\n",
    "  'se_dgc':'se_out',\n",
    "  'p_dgc':'pval_out'}\n",
    "\n",
    "pthresh = 5e-8\n",
    "\n",
    "# Renaming columns and filtering data to only include observations which fulfill significance threshold\n",
    "dexp = (pl.scan_csv(\"dataset/ldlc_gwas.txt\",separator=\"\\t\")\n",
    "        .rename(exp_header_dict)\n",
    "        .filter((pl.col('pval_exp') < pthresh)))\n",
    "dout = (pl.scan_csv(\"dataset/mi_gwas.tsv\",separator=\"\\t\")\n",
    "        .rename(out_header_dict))\n",
    "\n",
    "combined = (dexp.join(dout, on='rsid')\n",
    "            # Convert all data to lowercase\n",
    "            .with_columns(pl.col('ea_exp').str.to_lowercase())\n",
    "            .with_columns(pl.col('oa_exp').str.to_lowercase())\n",
    "            .with_columns(pl.col('ea_out').str.to_lowercase())\n",
    "            .with_columns(pl.col('oa_out').str.to_lowercase())\n",
    "            .collect())\n",
    "\n",
    "print(combined.shape)"
   ]
  },
  {
   "cell_type": "markdown",
   "metadata": {},
   "source": [
    "Harmonizing the data.\n",
    "\n",
    "Gathering all SNPs using fowards strand with matching effect and alternate alleles between exposure and outcome."
   ]
  },
  {
   "cell_type": "code",
   "execution_count": 53,
   "metadata": {},
   "outputs": [],
   "source": [
    "forwards_same = combined.filter(((pl.col('ea_exp') == pl.col('ea_out')) & (pl.col('oa_exp') == pl.col('oa_out'))))"
   ]
  },
  {
   "cell_type": "markdown",
   "metadata": {},
   "source": [
    "Gathering all SNPs using forwards strand with flipped effect and alternate alleles between exposure and outcome. The effect is then multiplied by -1."
   ]
  },
  {
   "cell_type": "code",
   "execution_count": 54,
   "metadata": {},
   "outputs": [],
   "source": [
    "forwards_flipped = (\n",
    "  combined.filter(((pl.col('ea_exp') == pl.col('oa_out')) & (pl.col('oa_exp') == pl.col('ea_out'))))\n",
    "  # Flip the signs of the outcome effects\n",
    "  .with_columns(\n",
    "    pl.col('beta_out').mul(-1)\n",
    "  )\n",
    ")"
   ]
  },
  {
   "cell_type": "markdown",
   "metadata": {},
   "source": [
    "Flipping the outcome alleles of the remaining SNPs since the remaining valid SNPs must use the reverse strand."
   ]
  },
  {
   "cell_type": "code",
   "execution_count": 65,
   "metadata": {},
   "outputs": [
    {
     "name": "stdout",
     "output_type": "stream",
     "text": [
      "shape: (68, 4)\n",
      "┌────────┬────────┬────────┬────────┐\n",
      "│ ea_exp ┆ oa_exp ┆ ea_out ┆ oa_out │\n",
      "│ ---    ┆ ---    ┆ ---    ┆ ---    │\n",
      "│ str    ┆ str    ┆ str    ┆ str    │\n",
      "╞════════╪════════╪════════╪════════╡\n",
      "│ a      ┆ t      ┆ g      ┆ t      │\n",
      "│ c      ┆ g      ┆ g      ┆ a      │\n",
      "│ a      ┆ g      ┆ g      ┆ t      │\n",
      "│ t      ┆ a      ┆ c      ┆ a      │\n",
      "│ …      ┆ …      ┆ …      ┆ …      │\n",
      "│ c      ┆ ct     ┆ d      ┆ i      │\n",
      "│ a      ┆ at     ┆ d      ┆ i      │\n",
      "│ a      ┆ ag     ┆ d      ┆ i      │\n",
      "│ a      ┆ ac     ┆ d      ┆ i      │\n",
      "└────────┴────────┴────────┴────────┘\n"
     ]
    }
   ],
   "source": [
    "# Find cases where alleles don't match\n",
    "reverse = (combined.filter(~(((pl.col('ea_exp') == pl.col('ea_out')) & (pl.col('oa_exp') == pl.col('oa_out'))) | \n",
    "                            (((pl.col('ea_exp') == pl.col('oa_out')) & (pl.col('oa_exp') == pl.col('ea_out'))))))\n",
    "            # Flipping the alleles\n",
    "            .with_columns(pl.col('ea_out').str.replace('a', 't'))\n",
    "            .with_columns(pl.col('ea_out').str.replace('t', 'a'))\n",
    "            .with_columns(pl.col('ea_out').str.replace('g', 'c'))\n",
    "            .with_columns(pl.col('ea_out').str.replace('c', 'g'))\n",
    "            .with_columns(pl.col('oa_out').str.replace('a', 't'))\n",
    "            .with_columns(pl.col('oa_out').str.replace('t', 'a'))\n",
    "            .with_columns(pl.col('oa_out').str.replace('g', 'c'))\n",
    "            .with_columns(pl.col('oa_out').str.replace('c', 'g'))\n",
    ")"
   ]
  },
  {
   "cell_type": "markdown",
   "metadata": {},
   "source": [
    "Gathering SNPs from reverse strand which use the same alleles for exposure and outcome."
   ]
  },
  {
   "cell_type": "code",
   "execution_count": 56,
   "metadata": {},
   "outputs": [],
   "source": [
    "reverse_same = (\n",
    "  reverse.filter(((pl.col('ea_exp') == pl.col('ea_out')) & (pl.col('oa_exp') == pl.col('oa_out'))))\n",
    ")"
   ]
  },
  {
   "cell_type": "markdown",
   "metadata": {},
   "source": [
    "Gathering SNPs from reverse strand which flipped the effect and alternate alleles. We then multiply the effect by -1."
   ]
  },
  {
   "cell_type": "code",
   "execution_count": 57,
   "metadata": {},
   "outputs": [],
   "source": [
    "reverse_flipped = (\n",
    "  # Find all reversed cases\n",
    "  reverse.filter(((pl.col('ea_exp') == pl.col('oa_out')) & (pl.col('oa_exp') == pl.col('ea_out'))))\n",
    "  # Flip the signs of the outcome effects\n",
    "  .with_columns(\n",
    "    pl.col('beta_out').mul(-1)\n",
    "  )\n",
    ")"
   ]
  },
  {
   "cell_type": "markdown",
   "metadata": {},
   "source": [
    "Combining all the different cases into one dataframe."
   ]
  },
  {
   "cell_type": "code",
   "execution_count": 58,
   "metadata": {},
   "outputs": [
    {
     "name": "stdout",
     "output_type": "stream",
     "text": [
      "(8679, 26)\n",
      "(66342, 26)\n",
      "(1, 26)\n",
      "(6, 26)\n"
     ]
    }
   ],
   "source": [
    "print(forwards_same.shape)\n",
    "print(forwards_flipped.shape)\n",
    "print(reverse_same.shape)\n",
    "print(reverse_flipped.shape)\n",
    "\n",
    "# Combining all SNPs\n",
    "total = pl.concat([forwards_same, forwards_flipped, reverse_same, reverse_flipped])"
   ]
  },
  {
   "cell_type": "markdown",
   "metadata": {},
   "source": [
    "Discarding all palindromic SNPs since we are unable to determine whether the effect and outcome alleles are matching."
   ]
  },
  {
   "cell_type": "code",
   "execution_count": 59,
   "metadata": {},
   "outputs": [
    {
     "name": "stdout",
     "output_type": "stream",
     "text": [
      "(63712, 26)\n"
     ]
    }
   ],
   "source": [
    "total = total.filter(\n",
    "  ~(((pl.col('ea_exp') == 'a') & (pl.col('oa_exp') == 't')) |\n",
    "  ((pl.col('ea_exp') == 't') & (pl.col('oa_exp') == 'a')) |\n",
    "  ((pl.col('ea_exp') == 'g') & (pl.col('oa_exp') == 'c')) |\n",
    "  ((pl.col('ea_exp') == 'c') & (pl.col('oa_exp') == 'g')))\n",
    ")\n",
    "\n",
    "print(total.shape)"
   ]
  },
  {
   "cell_type": "markdown",
   "metadata": {},
   "source": [
    "Pruning the data based on Linkage Disequilibirum (LD)."
   ]
  },
  {
   "cell_type": "code",
   "execution_count": 60,
   "metadata": {},
   "outputs": [],
   "source": [
    "import ieugwaspy as igd\n",
    "\n",
    "rsids = total['rsid']\n",
    "pvals = total['pval_exp']\n",
    "\n",
    "pruned = igd.api_query(path='/ld/clump', query={'rsid':rsids, 'pval':pvals}, method='POST')"
   ]
  },
  {
   "cell_type": "code",
   "execution_count": 63,
   "metadata": {},
   "outputs": [
    {
     "name": "stdout",
     "output_type": "stream",
     "text": [
      "444\n"
     ]
    }
   ],
   "source": [
    "# total.write_csv('dataset/output.txt', separator='\\t')\n",
    "print(len(pruned))\n",
    "pruned_rsids = pl.DataFrame({'rsid':pruned})\n",
    "processed_data = (total.join(pruned_rsids, on='rsid'))"
   ]
  },
  {
   "attachments": {
    "image.png": {
     "image/png": "[encoded data removed]"
    }
   },
   "cell_type": "markdown",
   "metadata": {},
   "source": [
    "Calculate the causal effect using the following:\n",
    "\n",
    "![image.png](attachment:image.png)"
   ]
  },
  {
   "cell_type": "code",
   "execution_count": 62,
   "metadata": {},
   "outputs": [
    {
     "name": "stdout",
     "output_type": "stream",
     "text": [
      "Effect: 0.5666555763511523\n",
      "se: 0.024475735763108256\n"
     ]
    }
   ],
   "source": [
    "effect = (processed_data['beta_exp'] * processed_data['beta_out'] * processed_data['se_out'] ** -2).sum() / (processed_data['beta_exp'] ** 2 * processed_data['se_out'] ** -2).sum()\n",
    "print(f'Effect: {effect}')\n",
    "\n",
    "se = ((processed_data['beta_exp'] ** 2 * processed_data['se_out'] ** -2).sum()) ** -0.5\n",
    "print(f'se: {se}')"
   ]
  }
 ],
 "metadata": {
  "kernelspec": {
   "display_name": "Python 3",
   "language": "python",
   "name": "python3"
  },
  "language_info": {
   "codemirror_mode": {
    "name": "ipython",
    "version": 3
   },
   "file_extension": ".py",
   "mimetype": "text/x-python",
   "name": "python",
   "nbconvert_exporter": "python",
   "pygments_lexer": "ipython3",
   "version": "3.11.6"
  }
 },
 "nbformat": 4,
 "nbformat_minor": 2
}
